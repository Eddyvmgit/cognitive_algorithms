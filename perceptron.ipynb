{
 "cells": [
  {
   "cell_type": "code",
   "execution_count": 5,
   "metadata": {
    "id": "eZgN99fS1Sch"
   },
   "outputs": [],
   "source": [
    "import numpy as np\n",
    "import scipy.io as io\n",
    "import pylab as pl\n",
    "import seaborn as sns\n",
    "import random\n",
    "%matplotlib inline"
   ]
  },
  {
   "cell_type": "code",
   "execution_count": 6,
   "metadata": {
    "id": "SvZseK6X1Sck"
   },
   "outputs": [],
   "source": [
    "''' ---- Functions for loading and plotting the images ---- '''\n",
    "def load_usps_data(fname, digit=3):\n",
    "    ''' Loads USPS (United State Postal Service) data from <fname> \n",
    "    Definition:  X, Y = load_usps_data(fname, digit = 3)\n",
    "    Input:       fname   - string\n",
    "                 digit   - optional, integer between 0 and 9, default is 3\n",
    "    Output:      X       -  DxN array with N images with D pixels\n",
    "                 Y       -  1D array of length N of class labels\n",
    "                                 1 - where picture contains the <digit>\n",
    "                                -1 - otherwise                           \n",
    "    '''\n",
    "    # load the data\n",
    "    data = io.loadmat(fname)\n",
    "    # extract images and labels\n",
    "    X = data['data_patterns']\n",
    "    Y = data['data_labels']\n",
    "    Y = Y[digit,:]\n",
    "    return X, Y\n",
    "\n",
    "def plot_img(a):\n",
    "    ''' Plots one image \n",
    "    Definition: plot_img(a) \n",
    "    Input:      a - 1D array that contains an image \n",
    "    '''   \n",
    "    a2 = np.reshape(a,(int(np.sqrt(a.shape[0])), int(np.sqrt(a.shape[0]))))\n",
    "    pl.imshow(a2, cmap='gray') \n",
    "    pl.colorbar()\n",
    "    pl.setp(pl.gca(), xticks=[], yticks=[])\n",
    "            \n",
    "def plot_imgs(X, Y):   \n",
    "    ''' Plots 3 images from each of the two classes \n",
    "    Definition:         plot_imgs(X,Y)\n",
    "    Input:       X       -  DxN array of N pictures with D pixel\n",
    "                 Y       -  1D array of length N of class labels {1, -1}                  \n",
    "    '''\n",
    "    pl.figure()\n",
    "    for i in sp.arange(3):\n",
    "        classpos = (Y == 1).nonzero()[0]\n",
    "        m = classpos[np.random.random_integers(0, classpos.shape[0]-1)]\n",
    "        pl.subplot(2,3,1+i)\n",
    "        plot_img(X[:, m])\n",
    "    for i in sp.arange(3):\n",
    "        classneg = (Y != 1).nonzero()[0]\n",
    "        m = classneg[np.random.random_integers(0, classneg.shape[0]-1)]\n",
    "        pl.subplot(2,3,4+i)\n",
    "        plot_img(X[:, m])"
   ]
  },
  {
   "cell_type": "markdown",
   "metadata": {
    "id": "AZbXneEH1Scn"
   },
   "source": [
    "Implement a linear perceptron by completing the function stub  ```train_perceptron```. We will test three different types of update rules for the learning rate (```option``` $\\in \\{0,1,2\\}$).\n",
    "$$\\text{learning rate}(t) = \\begin{cases} \\frac{\\eta}{1+t} & \\text{if} \\;\\; \\text{option} = 0  \\\\ \\eta & \\text{if} \\;\\; \\text{option} = 1 \\\\ \\eta \\cdot (1+t) & \\text{if} \\;\\; \\text{option} = 2 \\end{cases}$$\n",
    "where $t$ is the current iteration and $\\eta$ the initial value of the learning rate.           "
   ]
  },
  {
   "cell_type": "code",
   "execution_count": 7,
   "metadata": {
    "id": "pOuVN_af1Scn"
   },
   "outputs": [],
   "source": [
    "def train_perceptron(X,Y,iterations=200,eta=.1, option=0):\n",
    "    ''' Trains a linear perceptron\n",
    "    Definition:  w, b, acc  = train_perceptron(X,Y,iterations=200,eta=.1)\n",
    "    Input:       X       -  DxN array of N data points with D features\n",
    "                 Y       -  1D array of length N of class labels {-1, 1}\n",
    "                 iter    -  optional, number of iterations, default 200\n",
    "                 eta     -  optional, learning rate, default 0.1\n",
    "                 option  -  optional, defines how eta is updated in each iteration\n",
    "    Output:      w       -  1D array of length D, weight vector \n",
    "                 b       -  bias term for linear classification                          \n",
    "                 acc     -  1D array of length iter, contains classification accuracies \n",
    "                            after each iteration  \n",
    "                            Accuracy = #correctly classified points / N \n",
    "    '''\n",
    "    \n",
    "    assert option == 0 or option == 1 or option == 2\n",
    "    np.random.seed(1) # do not change\n",
    "    acc = np.zeros((iterations)) #creates array of zeros\n",
    "    #include the bias term by adding a row of ones to X \n",
    "    X = np.concatenate((np.ones((1,X.shape[1])), X)) #sets the bias to 1 and includes it to the X dataset for every feature\n",
    "    #initialize weight vector\n",
    "    \n",
    "    weights = np.ones((X.shape[0]))/X.shape[0] #creates the weights vector of every weight for every feature\n",
    "    \n",
    "    \n",
    "    for it in np.arange(iterations):             \n",
    "        # indices of misclassified data\n",
    "        wrong = (np.sign(weights.dot(X)) != Y).nonzero()[0] \n",
    "        # compute accuracy acc[it] (1 point)\n",
    "        # ... your code here\n",
    "        acc[it] = (len(Y)-len(wrong))/len(Y)\n",
    "        if wrong.shape[0] > 0:\n",
    "            # pick a random misclassified data point (2 points)\n",
    "            # ... your code here\n",
    "            randomInteger = np.random.choice(wrong)\n",
    "            #update weight vector (using different learning rates ) (each 1 point)\n",
    "            if option == 0:\n",
    "                weights = weights + ((eta/(1+it)) * Y[randomInteger] *X[:,randomInteger])\n",
    "                # ... your code here\n",
    "            elif option == 1:\n",
    "                weights = weights + (eta * Y[randomInteger] * X[:,randomInteger])\n",
    "                # ... your code here\n",
    "            elif option == 2:\n",
    "                # ... your code here\n",
    "                weights = weights + (eta*(1+it)*Y[randomInteger] * X[:,randomInteger])\n",
    "    b = -weights[0] \n",
    "    w = weights[1:]\n",
    "    \n",
    "    #return weight vector, bias and accuracies\n",
    "    return w,b,acc\n",
    "\n",
    "''' --------------------------------------------------------------------------------- '''\n",
    "def analyse_accuracies_perceptron(digit = 3, option=0):\n",
    "    ''' Loads usps.mat data and plots digit recognition accuracy in the linear perceptron\n",
    "    Definition: analyse_perceptron(digit = 3)\n",
    "    '''\n",
    "    X,Y = load_usps_data('usps.mat',digit)\n",
    "    w_per,b_per,acc = train_perceptron(X,Y, option=option)\n",
    "    \n",
    "    pl.figure()\n",
    "    pl.plot(np.arange(len(acc)),acc)\n",
    "    pl.title('Digit recognition accuracy')      \n",
    "    pl.xlabel('Iterations')\n",
    "    pl.ylabel('Accuracy')"
   ]
  },
  {
   "cell_type": "markdown",
   "metadata": {
    "id": "RaMy5emu1Scq"
   },
   "source": [
    "Implement a Prototype/Nearest Centroid Classifier by completing the function stub ```train_ncc```. Note that points will be deducted for the use of loops. "
   ]
  },
  {
   "cell_type": "code",
   "execution_count": 8,
   "metadata": {
    "id": "yy75CF631Scv"
   },
   "outputs": [],
   "source": [
    "def plot_histogram(X, Y, w, b):\n",
    "    ''' Plots the histogram of classifier outputs (w^T X - b) for target (the digit) and non-target (all other digits)\n",
    "    The title of the plot is the accuracy of the classification\n",
    "    \n",
    "    Definition:     plot_accuracies(X, Y, w, b)\n",
    "    Input:          X       -  DxN array of N data points with D features\n",
    "                    Y       -  1D array of length N of class labels\n",
    "                    w       -  1D array of length D, weight vector \n",
    "                    b       -  bias term for linear classification   \n",
    "    '''\n",
    "    ax = sns.distplot(w.dot(X[:,Y<0])-b, label=\"non-target\", norm_hist=False, kde=False)\n",
    "    ax = sns.distplot(w.dot(X[:,Y>0])-b, color=\"r\", label=\"target\", norm_hist=False, kde=False)\n",
    "    pl.legend()\n",
    "    pl.title(\"Acc %.2f %%\" % (100*np.sum(np.sign(w.dot(X)-b)==Y)/X.shape[1]))\n",
    "\n",
    "def plot_density(X, Y, w, b):\n",
    "    ''' Plots the kernel density estimate of classifier outputs (w^T X - b) for target (the digit) and non-target (all other digits)\n",
    "    \n",
    "    Definition:     plot_accuracies(X, Y, w, b)\n",
    "    Input:          X       -  DxN array of N data points with D features\n",
    "                    Y       -  1D array of length N of class labels\n",
    "                    w       -  1D array of length D, weight vector \n",
    "                    b       -  bias term for linear classification   \n",
    "    '''\n",
    "    ax = sns.kdeplot(w.dot(X[:,Y<0])-b, label=\"non-target\")\n",
    "    ax = sns.kdeplot(w.dot(X[:,Y>0])-b, color=\"r\", label=\"target\")\n",
    "    pl.legend()\n",
    "\n",
    "def compare_classifiers(digit = 3):\n",
    "    ''' Loads usps.mat data, trains the perceptron and the Nearest centroid classifiers, \n",
    "    and plots their weight vector and classifier output\n",
    "    Definition: compare_classifiers(digit = 3)\n",
    "    '''\n",
    "    X,Y = load_usps_data('usps.mat',digit)\n",
    "    w_per,b_per,_ = train_perceptron(X,Y)\n",
    "    w_ncc,b_ncc = train_ncc(X,Y)\n",
    "    \n",
    "    \n",
    "    pl.figure(figsize=(12,8))\n",
    "    pl.subplot(3,2,1)\n",
    "    plot_img(w_ncc)\n",
    "    pl.title('NCC')\n",
    "    pl.subplot(3,2,3)\n",
    "    plot_histogram(X, Y, w_ncc, b_ncc)\n",
    "    pl.subplot(3,2,5)\n",
    "    plot_density(X, Y, w_ncc, b_ncc)\n",
    "    \n",
    "    pl.subplot(3,2,2)\n",
    "    plot_img(w_per)\n",
    "    pl.title('Perceptron')\n",
    "    pl.subplot(3,2,4)\n",
    "    plot_histogram(X, Y, w_per, b_per)\n",
    "    pl.subplot(3,2,6)\n",
    "    plot_density(X, Y, w_per, b_per)"
   ]
  },
  {
   "cell_type": "code",
   "execution_count": 9,
   "metadata": {
    "id": "groQEFKc1Scs"
   },
   "outputs": [],
   "source": [
    "def train_ncc(X,Y):\n",
    "    ''' Trains a prototype/nearest centroid classifier\n",
    "    Definition:  w, b   = train_ncc(X,Y)\n",
    "    Input:       X       -  DxN array of N data points with D features\n",
    "                 Y       -  1D array of length N of class labels {-1, 1}\n",
    "    Output:      w       -  1D array of length D, weight vector  \n",
    "                 b       -  bias term for linear classification                          \n",
    "    '''\n",
    "    w_plus =  np.zeros((X.shape[0]))\n",
    "    w_minus = np.zeros((X.shape[0]))\n",
    "  \n",
    "    counter1 = 0\n",
    "    counter2 = 0\n",
    "\n",
    "    for i in range(0, len(Y)):\n",
    "        \n",
    "        if(Y[i] == 1):\n",
    "            counter1 +=1\n",
    "            w_plus += X[:, i]\n",
    "        else:\n",
    "            counter2 +=1\n",
    "            w_minus += X[:, i]\n",
    "    \n",
    "    w_plus = w_plus/counter1\n",
    "    w_minus = w_minus/counter2\n",
    "    \n",
    "    w = w_plus-w_minus\n",
    "    \n",
    "    b = (w_plus.dot(w_plus.T) - w_minus.dot(w_minus.T))/2\n",
    "    \n",
    "    return w, b\n",
    "   \n",
    "    \n",
    "    # ... your code here \n",
    "    "
   ]
  },
  {
   "cell_type": "code",
   "execution_count": 10,
   "metadata": {
    "colab": {
     "base_uri": "https://localhost:8080/",
     "height": 516
    },
    "id": "8lBp2yKd1Scx",
    "outputId": "f321b5b2-8586-4fa5-d79f-576d7cc12395",
    "scrolled": false
   },
   "outputs": [
    {
     "ename": "FileNotFoundError",
     "evalue": "[Errno 2] No such file or directory: 'usps.mat'",
     "output_type": "error",
     "traceback": [
      "\u001b[0;31m---------------------------------------------------------------------------\u001b[0m",
      "\u001b[0;31mFileNotFoundError\u001b[0m                         Traceback (most recent call last)",
      "\u001b[0;32m/opt/anaconda3/lib/python3.7/site-packages/scipy/io/matlab/mio.py\u001b[0m in \u001b[0;36m_open_file\u001b[0;34m(file_like, appendmat, mode)\u001b[0m\n\u001b[1;32m     38\u001b[0m     \u001b[0;32mtry\u001b[0m\u001b[0;34m:\u001b[0m\u001b[0;34m\u001b[0m\u001b[0;34m\u001b[0m\u001b[0m\n\u001b[0;32m---> 39\u001b[0;31m         \u001b[0;32mreturn\u001b[0m \u001b[0mopen\u001b[0m\u001b[0;34m(\u001b[0m\u001b[0mfile_like\u001b[0m\u001b[0;34m,\u001b[0m \u001b[0mmode\u001b[0m\u001b[0;34m)\u001b[0m\u001b[0;34m,\u001b[0m \u001b[0;32mTrue\u001b[0m\u001b[0;34m\u001b[0m\u001b[0;34m\u001b[0m\u001b[0m\n\u001b[0m\u001b[1;32m     40\u001b[0m     \u001b[0;32mexcept\u001b[0m \u001b[0mIOError\u001b[0m\u001b[0;34m:\u001b[0m\u001b[0;34m\u001b[0m\u001b[0;34m\u001b[0m\u001b[0m\n",
      "\u001b[0;31mFileNotFoundError\u001b[0m: [Errno 2] No such file or directory: 'usps.mat'",
      "\nDuring handling of the above exception, another exception occurred:\n",
      "\u001b[0;31mFileNotFoundError\u001b[0m                         Traceback (most recent call last)",
      "\u001b[0;32m<ipython-input-10-a3ac43c9ec2a>\u001b[0m in \u001b[0;36m<module>\u001b[0;34m\u001b[0m\n\u001b[1;32m      1\u001b[0m \u001b[0;31m# Call compare_classifiers to compare the performance for different digits\u001b[0m\u001b[0;34m\u001b[0m\u001b[0;34m\u001b[0m\u001b[0;34m\u001b[0m\u001b[0m\n\u001b[0;32m----> 2\u001b[0;31m \u001b[0mcompare_classifiers\u001b[0m\u001b[0;34m(\u001b[0m\u001b[0;34m)\u001b[0m\u001b[0;34m\u001b[0m\u001b[0;34m\u001b[0m\u001b[0m\n\u001b[0m\u001b[1;32m      3\u001b[0m \u001b[0;31m# ... your code here\u001b[0m\u001b[0;34m\u001b[0m\u001b[0;34m\u001b[0m\u001b[0;34m\u001b[0m\u001b[0m\n",
      "\u001b[0;32m<ipython-input-8-91a4ea58a86a>\u001b[0m in \u001b[0;36mcompare_classifiers\u001b[0;34m(digit)\u001b[0m\n\u001b[1;32m     32\u001b[0m     \u001b[0mDefinition\u001b[0m\u001b[0;34m:\u001b[0m \u001b[0mcompare_classifiers\u001b[0m\u001b[0;34m(\u001b[0m\u001b[0mdigit\u001b[0m \u001b[0;34m=\u001b[0m \u001b[0;36m3\u001b[0m\u001b[0;34m)\u001b[0m\u001b[0;34m\u001b[0m\u001b[0;34m\u001b[0m\u001b[0m\n\u001b[1;32m     33\u001b[0m     '''\n\u001b[0;32m---> 34\u001b[0;31m     \u001b[0mX\u001b[0m\u001b[0;34m,\u001b[0m\u001b[0mY\u001b[0m \u001b[0;34m=\u001b[0m \u001b[0mload_usps_data\u001b[0m\u001b[0;34m(\u001b[0m\u001b[0;34m'usps.mat'\u001b[0m\u001b[0;34m,\u001b[0m\u001b[0mdigit\u001b[0m\u001b[0;34m)\u001b[0m\u001b[0;34m\u001b[0m\u001b[0;34m\u001b[0m\u001b[0m\n\u001b[0m\u001b[1;32m     35\u001b[0m     \u001b[0mw_per\u001b[0m\u001b[0;34m,\u001b[0m\u001b[0mb_per\u001b[0m\u001b[0;34m,\u001b[0m\u001b[0m_\u001b[0m \u001b[0;34m=\u001b[0m \u001b[0mtrain_perceptron\u001b[0m\u001b[0;34m(\u001b[0m\u001b[0mX\u001b[0m\u001b[0;34m,\u001b[0m\u001b[0mY\u001b[0m\u001b[0;34m)\u001b[0m\u001b[0;34m\u001b[0m\u001b[0;34m\u001b[0m\u001b[0m\n\u001b[1;32m     36\u001b[0m     \u001b[0mw_ncc\u001b[0m\u001b[0;34m,\u001b[0m\u001b[0mb_ncc\u001b[0m \u001b[0;34m=\u001b[0m \u001b[0mtrain_ncc\u001b[0m\u001b[0;34m(\u001b[0m\u001b[0mX\u001b[0m\u001b[0;34m,\u001b[0m\u001b[0mY\u001b[0m\u001b[0;34m)\u001b[0m\u001b[0;34m\u001b[0m\u001b[0;34m\u001b[0m\u001b[0m\n",
      "\u001b[0;32m<ipython-input-6-97892604e245>\u001b[0m in \u001b[0;36mload_usps_data\u001b[0;34m(fname, digit)\u001b[0m\n\u001b[1;32m     11\u001b[0m     '''\n\u001b[1;32m     12\u001b[0m     \u001b[0;31m# load the data\u001b[0m\u001b[0;34m\u001b[0m\u001b[0;34m\u001b[0m\u001b[0;34m\u001b[0m\u001b[0m\n\u001b[0;32m---> 13\u001b[0;31m     \u001b[0mdata\u001b[0m \u001b[0;34m=\u001b[0m \u001b[0mio\u001b[0m\u001b[0;34m.\u001b[0m\u001b[0mloadmat\u001b[0m\u001b[0;34m(\u001b[0m\u001b[0mfname\u001b[0m\u001b[0;34m)\u001b[0m\u001b[0;34m\u001b[0m\u001b[0;34m\u001b[0m\u001b[0m\n\u001b[0m\u001b[1;32m     14\u001b[0m     \u001b[0;31m# extract images and labels\u001b[0m\u001b[0;34m\u001b[0m\u001b[0;34m\u001b[0m\u001b[0;34m\u001b[0m\u001b[0m\n\u001b[1;32m     15\u001b[0m     \u001b[0mX\u001b[0m \u001b[0;34m=\u001b[0m \u001b[0mdata\u001b[0m\u001b[0;34m[\u001b[0m\u001b[0;34m'data_patterns'\u001b[0m\u001b[0;34m]\u001b[0m\u001b[0;34m\u001b[0m\u001b[0;34m\u001b[0m\u001b[0m\n",
      "\u001b[0;32m/opt/anaconda3/lib/python3.7/site-packages/scipy/io/matlab/mio.py\u001b[0m in \u001b[0;36mloadmat\u001b[0;34m(file_name, mdict, appendmat, **kwargs)\u001b[0m\n\u001b[1;32m    214\u001b[0m     \"\"\"\n\u001b[1;32m    215\u001b[0m     \u001b[0mvariable_names\u001b[0m \u001b[0;34m=\u001b[0m \u001b[0mkwargs\u001b[0m\u001b[0;34m.\u001b[0m\u001b[0mpop\u001b[0m\u001b[0;34m(\u001b[0m\u001b[0;34m'variable_names'\u001b[0m\u001b[0;34m,\u001b[0m \u001b[0;32mNone\u001b[0m\u001b[0;34m)\u001b[0m\u001b[0;34m\u001b[0m\u001b[0;34m\u001b[0m\u001b[0m\n\u001b[0;32m--> 216\u001b[0;31m     \u001b[0;32mwith\u001b[0m \u001b[0m_open_file_context\u001b[0m\u001b[0;34m(\u001b[0m\u001b[0mfile_name\u001b[0m\u001b[0;34m,\u001b[0m \u001b[0mappendmat\u001b[0m\u001b[0;34m)\u001b[0m \u001b[0;32mas\u001b[0m \u001b[0mf\u001b[0m\u001b[0;34m:\u001b[0m\u001b[0;34m\u001b[0m\u001b[0;34m\u001b[0m\u001b[0m\n\u001b[0m\u001b[1;32m    217\u001b[0m         \u001b[0mMR\u001b[0m\u001b[0;34m,\u001b[0m \u001b[0m_\u001b[0m \u001b[0;34m=\u001b[0m \u001b[0mmat_reader_factory\u001b[0m\u001b[0;34m(\u001b[0m\u001b[0mf\u001b[0m\u001b[0;34m,\u001b[0m \u001b[0;34m**\u001b[0m\u001b[0mkwargs\u001b[0m\u001b[0;34m)\u001b[0m\u001b[0;34m\u001b[0m\u001b[0;34m\u001b[0m\u001b[0m\n\u001b[1;32m    218\u001b[0m         \u001b[0mmatfile_dict\u001b[0m \u001b[0;34m=\u001b[0m \u001b[0mMR\u001b[0m\u001b[0;34m.\u001b[0m\u001b[0mget_variables\u001b[0m\u001b[0;34m(\u001b[0m\u001b[0mvariable_names\u001b[0m\u001b[0;34m)\u001b[0m\u001b[0;34m\u001b[0m\u001b[0;34m\u001b[0m\u001b[0m\n",
      "\u001b[0;32m/opt/anaconda3/lib/python3.7/contextlib.py\u001b[0m in \u001b[0;36m__enter__\u001b[0;34m(self)\u001b[0m\n\u001b[1;32m    110\u001b[0m         \u001b[0;32mdel\u001b[0m \u001b[0mself\u001b[0m\u001b[0;34m.\u001b[0m\u001b[0margs\u001b[0m\u001b[0;34m,\u001b[0m \u001b[0mself\u001b[0m\u001b[0;34m.\u001b[0m\u001b[0mkwds\u001b[0m\u001b[0;34m,\u001b[0m \u001b[0mself\u001b[0m\u001b[0;34m.\u001b[0m\u001b[0mfunc\u001b[0m\u001b[0;34m\u001b[0m\u001b[0;34m\u001b[0m\u001b[0m\n\u001b[1;32m    111\u001b[0m         \u001b[0;32mtry\u001b[0m\u001b[0;34m:\u001b[0m\u001b[0;34m\u001b[0m\u001b[0;34m\u001b[0m\u001b[0m\n\u001b[0;32m--> 112\u001b[0;31m             \u001b[0;32mreturn\u001b[0m \u001b[0mnext\u001b[0m\u001b[0;34m(\u001b[0m\u001b[0mself\u001b[0m\u001b[0;34m.\u001b[0m\u001b[0mgen\u001b[0m\u001b[0;34m)\u001b[0m\u001b[0;34m\u001b[0m\u001b[0;34m\u001b[0m\u001b[0m\n\u001b[0m\u001b[1;32m    113\u001b[0m         \u001b[0;32mexcept\u001b[0m \u001b[0mStopIteration\u001b[0m\u001b[0;34m:\u001b[0m\u001b[0;34m\u001b[0m\u001b[0;34m\u001b[0m\u001b[0m\n\u001b[1;32m    114\u001b[0m             \u001b[0;32mraise\u001b[0m \u001b[0mRuntimeError\u001b[0m\u001b[0;34m(\u001b[0m\u001b[0;34m\"generator didn't yield\"\u001b[0m\u001b[0;34m)\u001b[0m \u001b[0;32mfrom\u001b[0m \u001b[0;32mNone\u001b[0m\u001b[0;34m\u001b[0m\u001b[0;34m\u001b[0m\u001b[0m\n",
      "\u001b[0;32m/opt/anaconda3/lib/python3.7/site-packages/scipy/io/matlab/mio.py\u001b[0m in \u001b[0;36m_open_file_context\u001b[0;34m(file_like, appendmat, mode)\u001b[0m\n\u001b[1;32m     17\u001b[0m \u001b[0;34m@\u001b[0m\u001b[0mcontextmanager\u001b[0m\u001b[0;34m\u001b[0m\u001b[0;34m\u001b[0m\u001b[0m\n\u001b[1;32m     18\u001b[0m \u001b[0;32mdef\u001b[0m \u001b[0m_open_file_context\u001b[0m\u001b[0;34m(\u001b[0m\u001b[0mfile_like\u001b[0m\u001b[0;34m,\u001b[0m \u001b[0mappendmat\u001b[0m\u001b[0;34m,\u001b[0m \u001b[0mmode\u001b[0m\u001b[0;34m=\u001b[0m\u001b[0;34m'rb'\u001b[0m\u001b[0;34m)\u001b[0m\u001b[0;34m:\u001b[0m\u001b[0;34m\u001b[0m\u001b[0;34m\u001b[0m\u001b[0m\n\u001b[0;32m---> 19\u001b[0;31m     \u001b[0mf\u001b[0m\u001b[0;34m,\u001b[0m \u001b[0mopened\u001b[0m \u001b[0;34m=\u001b[0m \u001b[0m_open_file\u001b[0m\u001b[0;34m(\u001b[0m\u001b[0mfile_like\u001b[0m\u001b[0;34m,\u001b[0m \u001b[0mappendmat\u001b[0m\u001b[0;34m,\u001b[0m \u001b[0mmode\u001b[0m\u001b[0;34m)\u001b[0m\u001b[0;34m\u001b[0m\u001b[0;34m\u001b[0m\u001b[0m\n\u001b[0m\u001b[1;32m     20\u001b[0m     \u001b[0;32myield\u001b[0m \u001b[0mf\u001b[0m\u001b[0;34m\u001b[0m\u001b[0;34m\u001b[0m\u001b[0m\n\u001b[1;32m     21\u001b[0m     \u001b[0;32mif\u001b[0m \u001b[0mopened\u001b[0m\u001b[0;34m:\u001b[0m\u001b[0;34m\u001b[0m\u001b[0;34m\u001b[0m\u001b[0m\n",
      "\u001b[0;32m/opt/anaconda3/lib/python3.7/site-packages/scipy/io/matlab/mio.py\u001b[0m in \u001b[0;36m_open_file\u001b[0;34m(file_like, appendmat, mode)\u001b[0m\n\u001b[1;32m     43\u001b[0m             \u001b[0;32mif\u001b[0m \u001b[0mappendmat\u001b[0m \u001b[0;32mand\u001b[0m \u001b[0;32mnot\u001b[0m \u001b[0mfile_like\u001b[0m\u001b[0;34m.\u001b[0m\u001b[0mendswith\u001b[0m\u001b[0;34m(\u001b[0m\u001b[0;34m'.mat'\u001b[0m\u001b[0;34m)\u001b[0m\u001b[0;34m:\u001b[0m\u001b[0;34m\u001b[0m\u001b[0;34m\u001b[0m\u001b[0m\n\u001b[1;32m     44\u001b[0m                 \u001b[0mfile_like\u001b[0m \u001b[0;34m+=\u001b[0m \u001b[0;34m'.mat'\u001b[0m\u001b[0;34m\u001b[0m\u001b[0;34m\u001b[0m\u001b[0m\n\u001b[0;32m---> 45\u001b[0;31m             \u001b[0;32mreturn\u001b[0m \u001b[0mopen\u001b[0m\u001b[0;34m(\u001b[0m\u001b[0mfile_like\u001b[0m\u001b[0;34m,\u001b[0m \u001b[0mmode\u001b[0m\u001b[0;34m)\u001b[0m\u001b[0;34m,\u001b[0m \u001b[0;32mTrue\u001b[0m\u001b[0;34m\u001b[0m\u001b[0;34m\u001b[0m\u001b[0m\n\u001b[0m\u001b[1;32m     46\u001b[0m         \u001b[0;32melse\u001b[0m\u001b[0;34m:\u001b[0m\u001b[0;34m\u001b[0m\u001b[0;34m\u001b[0m\u001b[0m\n\u001b[1;32m     47\u001b[0m             \u001b[0;32mraise\u001b[0m \u001b[0mIOError\u001b[0m\u001b[0;34m(\u001b[0m\u001b[0;34m'Reader needs file name or open file-like object'\u001b[0m\u001b[0;34m)\u001b[0m\u001b[0;34m\u001b[0m\u001b[0;34m\u001b[0m\u001b[0m\n",
      "\u001b[0;31mFileNotFoundError\u001b[0m: [Errno 2] No such file or directory: 'usps.mat'"
     ]
    }
   ],
   "source": [
    "# Call compare_classifiers to compare the performance for different digits\n",
    "compare_classifiers()\n",
    "# ... your code here \n"
   ]
  },
  {
   "cell_type": "code",
   "execution_count": null,
   "metadata": {
    "id": "GwV5JC_efQyw"
   },
   "outputs": [],
   "source": []
  },
  {
   "cell_type": "code",
   "execution_count": null,
   "metadata": {
    "id": "W05kKUoNfQy2"
   },
   "outputs": [],
   "source": []
  },
  {
   "cell_type": "code",
   "execution_count": null,
   "metadata": {
    "id": "GUi4AA_vfQzH"
   },
   "outputs": [],
   "source": []
  },
  {
   "cell_type": "code",
   "execution_count": null,
   "metadata": {
    "id": "ZF7KEd3lfQzO"
   },
   "outputs": [],
   "source": []
  },
  {
   "cell_type": "code",
   "execution_count": null,
   "metadata": {
    "id": "58fuXh8GfQzU"
   },
   "outputs": [],
   "source": []
  },
  {
   "cell_type": "code",
   "execution_count": null,
   "metadata": {
    "id": "7fPD7-ywfQzi"
   },
   "outputs": [],
   "source": []
  }
 ],
 "metadata": {
  "anaconda-cloud": {},
  "colab": {
   "collapsed_sections": [],
   "name": "CA_Assignment1_PerceptronNCC (1).ipynb",
   "provenance": []
  },
  "kernelspec": {
   "display_name": "Python 3",
   "language": "python",
   "name": "python3"
  },
  "language_info": {
   "codemirror_mode": {
    "name": "ipython",
    "version": 3
   },
   "file_extension": ".py",
   "mimetype": "text/x-python",
   "name": "python",
   "nbconvert_exporter": "python",
   "pygments_lexer": "ipython3",
   "version": "3.7.4"
  }
 },
 "nbformat": 4,
 "nbformat_minor": 1
}
